{
 "cells": [
  {
   "cell_type": "code",
   "execution_count": 1,
   "id": "184978c1-8af1-4d29-bc8e-d6d47212e123",
   "metadata": {},
   "outputs": [],
   "source": [
    "import sys\n",
    "import json\n",
    "from random import choice"
   ]
  },
  {
   "cell_type": "code",
   "execution_count": 2,
   "id": "861b53dd-24f4-4b43-95d6-aa394bfa31d2",
   "metadata": {},
   "outputs": [],
   "source": [
    "def generate_content(preferences):\n",
    "    # Example: Generating personalized text content based on user preferences\n",
    "    sample_texts = [\n",
    "        f\"Welcome back! We see you like {preferences.get('interest', 'technology')} content.\",\n",
    "        f\"Here's something new in {preferences.get('interest', 'sports')}.\",\n",
    "        f\"Based on your preferences, we recommend this {preferences.get('category', 'article')}.\"\n",
    "    ]\n",
    "    return choice(sample_texts)"
   ]
  },
  {
   "cell_type": "code",
   "execution_count": 4,
   "id": "cfb5800a-46d7-47c9-9760-b6b87fa8037d",
   "metadata": {},
   "outputs": [],
   "source": [
    "if __name__ == \"_main_\":\n",
    "    # Receive user preferences from Node.js as JSON\n",
    "    user_preferences = json.loads(sys.argv[1])\n",
    "    \n",
    "    # Generate content based on preferences\n",
    "    content = generate_content(user_preferences)\n",
    "    \n",
    "    # Output the generated content to Node.js\n",
    "    print(content)"
   ]
  },
  {
   "cell_type": "code",
   "execution_count": null,
   "id": "bff9692e-38d0-4f82-a982-8746d0ded4e0",
   "metadata": {},
   "outputs": [],
   "source": []
  }
 ],
 "metadata": {
  "kernelspec": {
   "display_name": "Python 3 (ipykernel)",
   "language": "python",
   "name": "python3"
  },
  "language_info": {
   "codemirror_mode": {
    "name": "ipython",
    "version": 3
   },
   "file_extension": ".py",
   "mimetype": "text/x-python",
   "name": "python",
   "nbconvert_exporter": "python",
   "pygments_lexer": "ipython3",
   "version": "3.11.7"
  }
 },
 "nbformat": 4,
 "nbformat_minor": 5
}
